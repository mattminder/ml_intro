{
 "cells": [
  {
   "cell_type": "markdown",
   "metadata": {},
   "source": [
    "# An Introduction to Machine Learning\n",
    "In this series of notebooks, we will give a brief overview of machine learning. The focus is to give you the intuition behind important concepts in the field of machine learning, to lay the groundwork for the deep learning course. You are not expected to understand all of the code in the notebooks, but you should have a general idea of what is happening."
   ]
  },
  {
   "cell_type": "markdown",
   "metadata": {},
   "source": [
    "## Tools: `sklearn` and `pandas`\n",
    "For classical machine learning, scikit-learn (or short sklearn) is probably the package that is used most. Here is the documentation: https://scikit-learn.org/stable/. It implements a lot of different methods and models that are very frequently used in practice. There are a lot of [practical examples](https://scikit-learn.org/stable/auto_examples/index.html) and [theoretical explanations](https://scikit-learn.org/stable/user_guide.html) available as well.\n",
    "\n",
    "For handling data, we will use `pandas` ([link to documentation](https://pandas.pydata.org/docs/getting_started/index.html)), a very useful package that allows to handle data in tables.\n",
    "\n",
    "For visualizing data, we will use `matplotlib` ([link to documentation](https://matplotlib.org/))."
   ]
  },
  {
   "cell_type": "markdown",
   "metadata": {},
   "source": [
    "## Installation\n",
    "\n",
    "Install these packages now by running the following cell in your Jupyter notebook:"
   ]
  },
  {
   "cell_type": "code",
   "execution_count": 1,
   "metadata": {},
   "outputs": [
    {
     "name": "stdout",
     "output_type": "stream",
     "text": [
      "Requirement already satisfied: scikit-learn in /Users/schmaett/code/long-tail-text-classifier/.venv/lib/python3.10/site-packages (1.3.0)\n",
      "Requirement already satisfied: numpy>=1.17.3 in /Users/schmaett/code/long-tail-text-classifier/.venv/lib/python3.10/site-packages (from scikit-learn) (1.26.4)\n",
      "Requirement already satisfied: joblib>=1.1.1 in /Users/schmaett/code/long-tail-text-classifier/.venv/lib/python3.10/site-packages (from scikit-learn) (1.3.1)\n",
      "Requirement already satisfied: threadpoolctl>=2.0.0 in /Users/schmaett/code/long-tail-text-classifier/.venv/lib/python3.10/site-packages (from scikit-learn) (3.2.0)\n",
      "Requirement already satisfied: scipy>=1.5.0 in /Users/schmaett/code/long-tail-text-classifier/.venv/lib/python3.10/site-packages (from scikit-learn) (1.11.1)\n",
      "\n",
      "\u001b[1m[\u001b[0m\u001b[34;49mnotice\u001b[0m\u001b[1;39;49m]\u001b[0m\u001b[39;49m A new release of pip available: \u001b[0m\u001b[31;49m22.3.1\u001b[0m\u001b[39;49m -> \u001b[0m\u001b[32;49m24.2\u001b[0m\n",
      "\u001b[1m[\u001b[0m\u001b[34;49mnotice\u001b[0m\u001b[1;39;49m]\u001b[0m\u001b[39;49m To update, run: \u001b[0m\u001b[32;49mpip install --upgrade pip\u001b[0m\n",
      "Requirement already satisfied: pandas in /Users/schmaett/code/long-tail-text-classifier/.venv/lib/python3.10/site-packages (2.2.1)\n",
      "Requirement already satisfied: python-dateutil>=2.8.2 in /Users/schmaett/code/long-tail-text-classifier/.venv/lib/python3.10/site-packages (from pandas) (2.9.0.post0)\n",
      "Requirement already satisfied: pytz>=2020.1 in /Users/schmaett/code/long-tail-text-classifier/.venv/lib/python3.10/site-packages (from pandas) (2024.1)\n",
      "Requirement already satisfied: tzdata>=2022.7 in /Users/schmaett/code/long-tail-text-classifier/.venv/lib/python3.10/site-packages (from pandas) (2024.1)\n",
      "Requirement already satisfied: numpy<2,>=1.22.4 in /Users/schmaett/code/long-tail-text-classifier/.venv/lib/python3.10/site-packages (from pandas) (1.26.4)\n",
      "Requirement already satisfied: six>=1.5 in /Users/schmaett/code/long-tail-text-classifier/.venv/lib/python3.10/site-packages (from python-dateutil>=2.8.2->pandas) (1.16.0)\n",
      "\n",
      "\u001b[1m[\u001b[0m\u001b[34;49mnotice\u001b[0m\u001b[1;39;49m]\u001b[0m\u001b[39;49m A new release of pip available: \u001b[0m\u001b[31;49m22.3.1\u001b[0m\u001b[39;49m -> \u001b[0m\u001b[32;49m24.2\u001b[0m\n",
      "\u001b[1m[\u001b[0m\u001b[34;49mnotice\u001b[0m\u001b[1;39;49m]\u001b[0m\u001b[39;49m To update, run: \u001b[0m\u001b[32;49mpip install --upgrade pip\u001b[0m\n",
      "Requirement already satisfied: matplotlib in /Users/schmaett/code/long-tail-text-classifier/.venv/lib/python3.10/site-packages (3.8.3)\n",
      "Requirement already satisfied: numpy<2,>=1.21 in /Users/schmaett/code/long-tail-text-classifier/.venv/lib/python3.10/site-packages (from matplotlib) (1.26.4)\n",
      "Requirement already satisfied: pyparsing>=2.3.1 in /Users/schmaett/code/long-tail-text-classifier/.venv/lib/python3.10/site-packages (from matplotlib) (3.1.1)\n",
      "Requirement already satisfied: contourpy>=1.0.1 in /Users/schmaett/code/long-tail-text-classifier/.venv/lib/python3.10/site-packages (from matplotlib) (1.2.0)\n",
      "Requirement already satisfied: fonttools>=4.22.0 in /Users/schmaett/code/long-tail-text-classifier/.venv/lib/python3.10/site-packages (from matplotlib) (4.49.0)\n",
      "Requirement already satisfied: pillow>=8 in /Users/schmaett/code/long-tail-text-classifier/.venv/lib/python3.10/site-packages (from matplotlib) (10.2.0)\n",
      "Requirement already satisfied: packaging>=20.0 in /Users/schmaett/code/long-tail-text-classifier/.venv/lib/python3.10/site-packages (from matplotlib) (23.2)\n",
      "Requirement already satisfied: cycler>=0.10 in /Users/schmaett/code/long-tail-text-classifier/.venv/lib/python3.10/site-packages (from matplotlib) (0.12.1)\n",
      "Requirement already satisfied: python-dateutil>=2.7 in /Users/schmaett/code/long-tail-text-classifier/.venv/lib/python3.10/site-packages (from matplotlib) (2.9.0.post0)\n",
      "Requirement already satisfied: kiwisolver>=1.3.1 in /Users/schmaett/code/long-tail-text-classifier/.venv/lib/python3.10/site-packages (from matplotlib) (1.4.5)\n",
      "Requirement already satisfied: six>=1.5 in /Users/schmaett/code/long-tail-text-classifier/.venv/lib/python3.10/site-packages (from python-dateutil>=2.7->matplotlib) (1.16.0)\n",
      "\n",
      "\u001b[1m[\u001b[0m\u001b[34;49mnotice\u001b[0m\u001b[1;39;49m]\u001b[0m\u001b[39;49m A new release of pip available: \u001b[0m\u001b[31;49m22.3.1\u001b[0m\u001b[39;49m -> \u001b[0m\u001b[32;49m24.2\u001b[0m\n",
      "\u001b[1m[\u001b[0m\u001b[34;49mnotice\u001b[0m\u001b[1;39;49m]\u001b[0m\u001b[39;49m To update, run: \u001b[0m\u001b[32;49mpip install --upgrade pip\u001b[0m\n",
      "Collecting ipympl\n",
      "  Downloading ipympl-0.9.4-py3-none-any.whl (516 kB)\n",
      "\u001b[2K     \u001b[90m━━━━━━━━━━━━━━━━━━━━━━━━━━━━━━━━━━━━━━━\u001b[0m \u001b[32m516.3/516.3 kB\u001b[0m \u001b[31m9.9 MB/s\u001b[0m eta \u001b[36m0:00:00\u001b[0ma \u001b[36m0:00:01\u001b[0m\n",
      "\u001b[?25hRequirement already satisfied: matplotlib<4,>=3.4.0 in /Users/schmaett/code/long-tail-text-classifier/.venv/lib/python3.10/site-packages (from ipympl) (3.8.3)\n",
      "Requirement already satisfied: pillow in /Users/schmaett/code/long-tail-text-classifier/.venv/lib/python3.10/site-packages (from ipympl) (10.2.0)\n",
      "Requirement already satisfied: traitlets<6 in /Users/schmaett/code/long-tail-text-classifier/.venv/lib/python3.10/site-packages (from ipympl) (5.14.1)\n",
      "Requirement already satisfied: ipython<9 in /Users/schmaett/code/long-tail-text-classifier/.venv/lib/python3.10/site-packages (from ipympl) (8.22.2)\n",
      "Requirement already satisfied: numpy in /Users/schmaett/code/long-tail-text-classifier/.venv/lib/python3.10/site-packages (from ipympl) (1.26.4)\n",
      "Collecting ipywidgets<9,>=7.6.0\n",
      "  Downloading ipywidgets-8.1.5-py3-none-any.whl (139 kB)\n",
      "\u001b[2K     \u001b[90m━━━━━━━━━━━━━━━━━━━━━━━━━━━━━━━━━━━━━━━\u001b[0m \u001b[32m139.8/139.8 kB\u001b[0m \u001b[31m9.9 MB/s\u001b[0m eta \u001b[36m0:00:00\u001b[0m\n",
      "\u001b[?25hCollecting ipython-genutils\n",
      "  Using cached ipython_genutils-0.2.0-py2.py3-none-any.whl (26 kB)\n",
      "Requirement already satisfied: stack-data in /Users/schmaett/code/long-tail-text-classifier/.venv/lib/python3.10/site-packages (from ipython<9->ipympl) (0.6.3)\n",
      "Requirement already satisfied: pygments>=2.4.0 in /Users/schmaett/code/long-tail-text-classifier/.venv/lib/python3.10/site-packages (from ipython<9->ipympl) (2.17.2)\n",
      "Requirement already satisfied: prompt-toolkit<3.1.0,>=3.0.41 in /Users/schmaett/code/long-tail-text-classifier/.venv/lib/python3.10/site-packages (from ipython<9->ipympl) (3.0.43)\n",
      "Requirement already satisfied: decorator in /Users/schmaett/code/long-tail-text-classifier/.venv/lib/python3.10/site-packages (from ipython<9->ipympl) (5.1.1)\n",
      "Requirement already satisfied: exceptiongroup in /Users/schmaett/code/long-tail-text-classifier/.venv/lib/python3.10/site-packages (from ipython<9->ipympl) (1.2.0)\n",
      "Requirement already satisfied: jedi>=0.16 in /Users/schmaett/code/long-tail-text-classifier/.venv/lib/python3.10/site-packages (from ipython<9->ipympl) (0.19.1)\n",
      "Requirement already satisfied: pexpect>4.3 in /Users/schmaett/code/long-tail-text-classifier/.venv/lib/python3.10/site-packages (from ipython<9->ipympl) (4.9.0)\n",
      "Requirement already satisfied: matplotlib-inline in /Users/schmaett/code/long-tail-text-classifier/.venv/lib/python3.10/site-packages (from ipython<9->ipympl) (0.1.6)\n",
      "Requirement already satisfied: comm>=0.1.3 in /Users/schmaett/code/long-tail-text-classifier/.venv/lib/python3.10/site-packages (from ipywidgets<9,>=7.6.0->ipympl) (0.2.1)\n",
      "Collecting jupyterlab-widgets~=3.0.12\n",
      "  Downloading jupyterlab_widgets-3.0.13-py3-none-any.whl (214 kB)\n",
      "\u001b[2K     \u001b[90m━━━━━━━━━━━━━━━━━━━━━━━━━━━━━━━━━━━━━━\u001b[0m \u001b[32m214.4/214.4 kB\u001b[0m \u001b[31m10.0 MB/s\u001b[0m eta \u001b[36m0:00:00\u001b[0m\n",
      "\u001b[?25hCollecting widgetsnbextension~=4.0.12\n",
      "  Downloading widgetsnbextension-4.0.13-py3-none-any.whl (2.3 MB)\n",
      "\u001b[2K     \u001b[90m━━━━━━━━━━━━━━━━━━━━━━━━━━━━━━━━━━━━━━━━\u001b[0m \u001b[32m2.3/2.3 MB\u001b[0m \u001b[31m11.5 MB/s\u001b[0m eta \u001b[36m0:00:00\u001b[0ma \u001b[36m0:00:01\u001b[0m\n",
      "\u001b[?25hRequirement already satisfied: contourpy>=1.0.1 in /Users/schmaett/code/long-tail-text-classifier/.venv/lib/python3.10/site-packages (from matplotlib<4,>=3.4.0->ipympl) (1.2.0)\n",
      "Requirement already satisfied: fonttools>=4.22.0 in /Users/schmaett/code/long-tail-text-classifier/.venv/lib/python3.10/site-packages (from matplotlib<4,>=3.4.0->ipympl) (4.49.0)\n",
      "Requirement already satisfied: kiwisolver>=1.3.1 in /Users/schmaett/code/long-tail-text-classifier/.venv/lib/python3.10/site-packages (from matplotlib<4,>=3.4.0->ipympl) (1.4.5)\n",
      "Requirement already satisfied: cycler>=0.10 in /Users/schmaett/code/long-tail-text-classifier/.venv/lib/python3.10/site-packages (from matplotlib<4,>=3.4.0->ipympl) (0.12.1)\n",
      "Requirement already satisfied: pyparsing>=2.3.1 in /Users/schmaett/code/long-tail-text-classifier/.venv/lib/python3.10/site-packages (from matplotlib<4,>=3.4.0->ipympl) (3.1.1)\n",
      "Requirement already satisfied: python-dateutil>=2.7 in /Users/schmaett/code/long-tail-text-classifier/.venv/lib/python3.10/site-packages (from matplotlib<4,>=3.4.0->ipympl) (2.9.0.post0)\n",
      "Requirement already satisfied: packaging>=20.0 in /Users/schmaett/code/long-tail-text-classifier/.venv/lib/python3.10/site-packages (from matplotlib<4,>=3.4.0->ipympl) (23.2)\n",
      "Requirement already satisfied: parso<0.9.0,>=0.8.3 in /Users/schmaett/code/long-tail-text-classifier/.venv/lib/python3.10/site-packages (from jedi>=0.16->ipython<9->ipympl) (0.8.3)\n",
      "Requirement already satisfied: ptyprocess>=0.5 in /Users/schmaett/code/long-tail-text-classifier/.venv/lib/python3.10/site-packages (from pexpect>4.3->ipython<9->ipympl) (0.7.0)\n",
      "Requirement already satisfied: wcwidth in /Users/schmaett/code/long-tail-text-classifier/.venv/lib/python3.10/site-packages (from prompt-toolkit<3.1.0,>=3.0.41->ipython<9->ipympl) (0.2.13)\n",
      "Requirement already satisfied: six>=1.5 in /Users/schmaett/code/long-tail-text-classifier/.venv/lib/python3.10/site-packages (from python-dateutil>=2.7->matplotlib<4,>=3.4.0->ipympl) (1.16.0)\n",
      "Requirement already satisfied: pure-eval in /Users/schmaett/code/long-tail-text-classifier/.venv/lib/python3.10/site-packages (from stack-data->ipython<9->ipympl) (0.2.2)\n",
      "Requirement already satisfied: asttokens>=2.1.0 in /Users/schmaett/code/long-tail-text-classifier/.venv/lib/python3.10/site-packages (from stack-data->ipython<9->ipympl) (2.4.1)\n",
      "Requirement already satisfied: executing>=1.2.0 in /Users/schmaett/code/long-tail-text-classifier/.venv/lib/python3.10/site-packages (from stack-data->ipython<9->ipympl) (2.0.1)\n",
      "Installing collected packages: ipython-genutils, widgetsnbextension, jupyterlab-widgets, ipywidgets, ipympl\n",
      "Successfully installed ipympl-0.9.4 ipython-genutils-0.2.0 ipywidgets-8.1.5 jupyterlab-widgets-3.0.13 widgetsnbextension-4.0.13\n",
      "\n",
      "\u001b[1m[\u001b[0m\u001b[34;49mnotice\u001b[0m\u001b[1;39;49m]\u001b[0m\u001b[39;49m A new release of pip available: \u001b[0m\u001b[31;49m22.3.1\u001b[0m\u001b[39;49m -> \u001b[0m\u001b[32;49m24.2\u001b[0m\n",
      "\u001b[1m[\u001b[0m\u001b[34;49mnotice\u001b[0m\u001b[1;39;49m]\u001b[0m\u001b[39;49m To update, run: \u001b[0m\u001b[32;49mpip install --upgrade pip\u001b[0m\n"
     ]
    }
   ],
   "source": [
    "!pip install scikit-learn\n",
    "!pip install pandas\n",
    "!pip install matplotlib\n",
    "!pip install ipympl"
   ]
  },
  {
   "cell_type": "markdown",
   "metadata": {},
   "source": [
    "Now run this cell. If it runs without an error, the installation process was successful. If not, check your internet connection and redo the step above."
   ]
  },
  {
   "cell_type": "code",
   "execution_count": 2,
   "metadata": {},
   "outputs": [],
   "source": [
    "import numpy as np\n",
    "import pandas as pd\n",
    "from sklearn import metrics\n",
    "import matplotlib.pyplot as plt"
   ]
  },
  {
   "cell_type": "markdown",
   "metadata": {},
   "source": []
  }
 ],
 "metadata": {
  "kernelspec": {
   "display_name": ".venv",
   "language": "python",
   "name": "python3"
  },
  "language_info": {
   "codemirror_mode": {
    "name": "ipython",
    "version": 3
   },
   "file_extension": ".py",
   "mimetype": "text/x-python",
   "name": "python",
   "nbconvert_exporter": "python",
   "pygments_lexer": "ipython3",
   "version": "3.10.14"
  }
 },
 "nbformat": 4,
 "nbformat_minor": 2
}
