{
 "cells": [
  {
   "cell_type": "markdown",
   "metadata": {},
   "source": [
    "# An Introduction to Machine Learning\n",
    "In this series of notebooks, we will give a brief overview of machine learning. The focus is to give you the intuition behind important concepts in the field of machine learning, to lay the groundwork for the deep learning course. You are not expected to understand all of the code in the notebooks, but you should have a general idea of what is happening."
   ]
  },
  {
   "cell_type": "markdown",
   "metadata": {},
   "source": [
    "## Tools: `sklearn` and `pandas`\n",
    "For classical machine learning, scikit-learn (or short sklearn) is probably the package that is used most. Here is the documentation: https://scikit-learn.org/stable/. It implements a lot of different methods and models that are very frequently used in practice. There are a lot of [practical examples](https://scikit-learn.org/stable/auto_examples/index.html) and [theoretical explanations](https://scikit-learn.org/stable/user_guide.html) available as well.\n",
    "\n",
    "For handling data, we will use `pandas` ([link to documentation](https://pandas.pydata.org/docs/getting_started/index.html)), a very useful package that allows to handle data in tables.\n",
    "\n",
    "For visualizing data, we will use `matplotlib` ([link to documentation](https://matplotlib.org/))."
   ]
  },
  {
   "cell_type": "markdown",
   "metadata": {},
   "source": [
    "## Installation\n",
    "\n",
    "Install these packages now by running the following cell in your Jupyter notebook:"
   ]
  },
  {
   "cell_type": "code",
   "execution_count": null,
   "metadata": {},
   "outputs": [],
   "source": [
    "!pip install scikit-learn\n",
    "!pip install pandas\n",
    "!pip install matplotlib\n",
    "!pip install ipympl"
   ]
  },
  {
   "cell_type": "markdown",
   "metadata": {},
   "source": [
    "Now run this cell. If it runs without an error, the installation process was successful. If not, check your internet connection and redo the step above."
   ]
  },
  {
   "cell_type": "code",
   "execution_count": 2,
   "metadata": {},
   "outputs": [],
   "source": [
    "import numpy as np\n",
    "import pandas as pd\n",
    "from sklearn import metrics\n",
    "import matplotlib.pyplot as plt"
   ]
  },
  {
   "cell_type": "markdown",
   "metadata": {},
   "source": []
  }
 ],
 "metadata": {
  "kernelspec": {
   "display_name": ".venv",
   "language": "python",
   "name": "python3"
  },
  "language_info": {
   "codemirror_mode": {
    "name": "ipython",
    "version": 3
   },
   "file_extension": ".py",
   "mimetype": "text/x-python",
   "name": "python",
   "nbconvert_exporter": "python",
   "pygments_lexer": "ipython3",
   "version": "3.10.14"
  }
 },
 "nbformat": 4,
 "nbformat_minor": 2
}
